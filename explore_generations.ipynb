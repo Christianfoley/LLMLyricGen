{
 "cells": [
  {
   "cell_type": "code",
   "execution_count": 1,
   "metadata": {},
   "outputs": [],
   "source": [
    "import pandas as pd"
   ]
  },
  {
   "cell_type": "code",
   "execution_count": 2,
   "metadata": {},
   "outputs": [],
   "source": [
    "lyre_songs = pd.read_json(\"embedding_generation/test_song_generations.json\")\n",
    "llama_songs = pd.read_json(\"embedding_generation/test_song_generations_based_model.json\")\n"
   ]
  },
  {
   "cell_type": "code",
   "execution_count": 3,
   "metadata": {},
   "outputs": [],
   "source": [
    "song_id = 81"
   ]
  },
  {
   "cell_type": "code",
   "execution_count": 7,
   "metadata": {},
   "outputs": [
    {
     "name": "stdout",
     "output_type": "stream",
     "text": [
      "PROMPT:\n",
      "  Write me a song called This Love (Taylor’s Version) with the following description: The “Taylor’s Version” of Swift’s 2014 song was released in May 2022 as part of the soundtrack on Prime Video’s TV series, The Summer I Turned Pretty. It followed the release of “Wildest Dreams (Taylor’s Version),” making it the second song on 1989 (Taylor’s Version) to see the light of day.\n",
      "This track finds Taylor using cyclical metaphors to ponder on the cycles of a relationship. Sometimes it’s good, sometimes it’s bad, but regardless, it’s still love. It also explores on the idea of fate — a quite common thread throughout Swift’s whole discography —: If a relationship is not supposed to happen at this point in time, you have to let the other person go, even if you don’t want to, and if it’s meant to be, they’ll eventually come back to your life.\n",
      "Following the release of 1989 in 2014, Swift told Yahoo! that she considers “This Love” to be the first song in which she really experimented with different vocal recording styles. She goes on to explore more of that side of music throughout 2017’s reputation.\n",
      "Additionally, as documented by a Tumblr user, this was the first song Swift have written to 1989, right after she dropped her 2012 album Red, and started out with the chorus as a short poem written in her book. Make sure the lyrics are different from the original song.\n",
      "==============================================================================\n",
      "Original:\n",
      "  [Verse 1]\n",
      "Clear blue water\n",
      "High tide came and brought you in\n",
      "And I could go on and on, on and on, and I will\n",
      "Skies grew darker\n",
      "Currents swept you out again\n",
      "And you were just gone and gone, gone and gone\n",
      "[Pre-Chorus]\n",
      "In silent screams, in wildest dreams\n",
      "I never dreamed of this\n",
      "[Chorus]\n",
      "This love is good, this love is bad\n",
      "This love is alive back from the dead (Oh-oh-oh)\n",
      "These hands had to let it go free and\n",
      "This love came back to me (Oh-oh-oh)\n",
      "[Post-Chorus]\n",
      "Oh-oh-oh\n",
      "(Oh-oh-oh)\n",
      "[Verse 2]\n",
      "Tossing, turning\n",
      "Struggled through the night with someone new\n",
      "Baby, I could go on and on, on and on\n",
      "Lantern, burning\n",
      "Flickered in my mind for only you\n",
      "But you were still gone, gone, gone [Pre-Chorus]\n",
      "In losin' grip, on sinking ships\n",
      "You showed up just in time\n",
      "[Chorus]\n",
      "This love is good, this love is bad\n",
      "This love is alive back from the dead (Oh-oh-oh)\n",
      "These hands had to let it go free and\n",
      "This love came back to me (Oh-oh-oh)\n",
      "This love left a permanent mark\n",
      "This love is glowing in the dark (Oh-oh-oh)\n",
      "These hands had to let it go free and\n",
      "This love came back to me, oh-oh-oh\n",
      "[Post-Chorus]\n",
      "(This love, this love, this love, this love) Oh-oh-oh\n",
      "(This love, this love, this love, this love) Oh-oh-oh\n",
      "(This love, this love, this love, this love) Oh-oh-oh\n",
      "(This love, this love, this love, this love)\n",
      "[Bridge]\n",
      "Your kiss, my cheek, I watched you leave\n",
      "Your smile, my ghost, I fell to my knees\n",
      "When you're young, you just run\n",
      "But you come back to what you need [Chorus]\n",
      "This love is good, this love is bad\n",
      "This love is alive back from the dead (Oh-oh-oh)\n",
      "These hands had to let it go free and\n",
      "This love came back to me (Oh-oh-oh)\n",
      "(This love) This love left a permanent mark\n",
      "(This love) This love is glowing in the dark (Oh-oh-oh)\n",
      "(This love) These hands had to let it go free and\n",
      "(This love) This love came back to me, oh-oh-oh\n",
      "[Post-Chorus]\n",
      "(This love, this love, oh, this love, this love) Oh-oh-oh\n",
      "(This love, this love, this love, this love) Oh-oh-oh\n",
      "(This love, this love, this love, this love)\n",
      "(This love, this love, this love, this love)\n",
      "This love came back to me, oh-oh-oh\n"
     ]
    }
   ],
   "source": [
    "print(\"PROMPT:\\n \", lyre_songs[lyre_songs.id == song_id]['prompt'].values[0])\n",
    "print(\"==============================================================================\")\n",
    "print(\"Original:\\n \", lyre_songs[lyre_songs.id == song_id]['target_response'].values[0])"
   ]
  },
  {
   "cell_type": "markdown",
   "metadata": {},
   "source": [
    "# Lyre-LM (Finetuned Model) Outputs"
   ]
  },
  {
   "cell_type": "code",
   "execution_count": 8,
   "metadata": {},
   "outputs": [
    {
     "name": "stdout",
     "output_type": "stream",
     "text": [
      "Generated:\n",
      "  [Verse 1]\n",
      "I'm on a train, headed nowhere, smoke in my eyes\n",
      "And I just heard the same song on the radio twice\n",
      "You've been calling and I'm not picking up, I'm not picking up\n",
      "And I feel like I've been here before\n",
      "[Chorus]\n",
      "This love is like driving an old truck\n",
      "Bumping along, bumping along\n",
      "It's like trying to change the past\n",
      "Spinning all day in a spin cycle\n",
      "It's like trying to let go\n",
      "But holding on so tight\n",
      "This love is a roller coaster\n",
      "Bumpy, bumpy, bumpy, bumpy ride\n",
      "[Verse 2]\n",
      "I'm on a plane, flying South by Southwest\n",
      "I'm going to Texas cause I heard if you wait\n",
      "It will be there on the radio when you wake up\n",
      "And I'm trying to believe you\n",
      "[Chorus]\n",
      "This love is like driving an old truck\n",
      "Bumping along, bumping along\n",
      "It's like trying to change the past\n",
      "Spinning all day in a spin cycle\n",
      "It's like trying to let go\n",
      "But holding on so tight\n",
      "This love is a roller coaster\n",
      "Bumpy, bumpy, bumpy, bumpy ride [Bridge]\n",
      "It's like falling from cloud nine\n",
      "Crashing to the ground\n",
      "Only to have your heart take flight again\n",
      "And it's like meeting the one\n",
      "And realizing that there is no one else quite like them\n",
      "And you'll fight like this for everything that you've got\n",
      "[Chorus]\n",
      "This love is like driving an old truck\n",
      "Bumping along, bumping along\n",
      "It's like trying to change the past\n",
      "Spinning all day in a spin cycle\n",
      "It's like trying to let go\n",
      "But holding on so tight\n",
      "This love is a roller coaster\n",
      "Bumpy, bumpy, bumpy, bumpy ride\n",
      "This love is like driving an old truck\n",
      "Bumping along, bumping along\n",
      "It's like trying to change the past\n",
      "Spinning all day in a spin cycle\n",
      "It's like trying to let go\n",
      "But holding on so tight\n",
      "This love is a roller coaster\n",
      "Bumpy, bumpy, bumpy, bumpy ride\n"
     ]
    }
   ],
   "source": [
    "print(\"Generated:\\n \", lyre_songs[lyre_songs.id == song_id]['model_response'].values[0])"
   ]
  },
  {
   "cell_type": "markdown",
   "metadata": {},
   "source": [
    "# Llama (based model) Outputs"
   ]
  },
  {
   "cell_type": "code",
   "execution_count": 9,
   "metadata": {},
   "outputs": [
    {
     "name": "stdout",
     "output_type": "stream",
     "text": [
      "Generated:\n",
      "  (Verse 1)\n",
      "I've been thinkin' 'bout the cycles of love,\n",
      "How it ebbs and flows like the tides above.\n",
      "Sometimes it's good, sometimes it's bad,\n",
      "But I know that this love will always be sad.\n",
      "\n",
      "(Chorus)\n",
      "This love, it's like a game we play,\n",
      "Where we come and go, day after day.\n",
      "It's a rollercoaster, up and down,\n",
      "But I know that this love will wear the crown.\n",
      "\n",
      "(Verse 2)\n",
      "We've been through the highs and lows,\n",
      "Through the laughter and the tears, we've grown.\n",
      "But sometimes fate has other plans,\n",
      "And we're left to pick up the pieces of our shattered hands.\n",
      "\n",
      "(Chorus)\n",
      "This love, it's like a game we play,\n",
      "Where we come and go, day after day.\n",
      "It's a rollercoaster, up and down,\n",
      "But I know that this love will wear the crown.\n",
      "\n",
      "(Bridge)\n",
      "Maybe it's not meant to be,\n",
      "Maybe it's not meant to be,\n",
      "But I'll hold on to the memories,\n",
      "And hope that someday, you'll see.\n",
      "\n",
      "(Chorus)\n",
      "This love, it's like a game we play,\n",
      "Where we come and go, day after day.\n",
      "It's a rollercoaster, up and down,\n",
      "But I know that this love will wear the crown.\n",
      "\n",
      "(Outro)\n",
      "This love, it's a cycle we'll ride,\n",
      "Ups and downs, we'll take the ride.\n",
      "And even though it's not always right,\n",
      "I'll keep on loving you, day and night.\n",
      "\n",
      "In this version of \"This Love,\" Taylor explores the idea of cycles in relationships, using cyclical metaphors to describe the ups and downs of love. She also touches on the theme of fate, suggesting that sometimes love is not meant to be, but holding on to the memories and hoping for a chance to come back together in the future. This song marks a departure from the original version, with a more experimental approach to vocal recording and a focus on the themes of love and fate that are prevalent throughout Taylor Swift's discography.\n"
     ]
    }
   ],
   "source": [
    "print(\"Generated:\\n \", llama_songs[llama_songs.id == song_id]['model_response'].values[0])"
   ]
  },
  {
   "cell_type": "code",
   "execution_count": null,
   "metadata": {},
   "outputs": [],
   "source": []
  }
 ],
 "metadata": {
  "kernelspec": {
   "display_name": "rlaif",
   "language": "python",
   "name": "python3"
  },
  "language_info": {
   "codemirror_mode": {
    "name": "ipython",
    "version": 3
   },
   "file_extension": ".py",
   "mimetype": "text/x-python",
   "name": "python",
   "nbconvert_exporter": "python",
   "pygments_lexer": "ipython3",
   "version": "3.11.5"
  }
 },
 "nbformat": 4,
 "nbformat_minor": 2
}
