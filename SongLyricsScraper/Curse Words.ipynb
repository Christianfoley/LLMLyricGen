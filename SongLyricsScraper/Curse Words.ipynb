{
 "cells": [
  {
   "cell_type": "code",
   "execution_count": 1,
   "id": "988e7323",
   "metadata": {},
   "outputs": [],
   "source": [
    "import pandas as pd\n",
    "llama_outputs = pd.read_json(\"https://raw.githubusercontent.com/Christianfoley/LLMLyricGen/main/data/model_outputs/llama-2-7b-chat-test-outputs.json\")\n",
    "lyre_outputs = pd.read_json(\"https://raw.githubusercontent.com/Christianfoley/LLMLyricGen/main/data/model_outputs/lyre-chat-small-batch-checkpoint-100-temp-1-test-outputs.json\")"
   ]
  },
  {
   "cell_type": "code",
   "execution_count": 80,
   "id": "aaeb1419",
   "metadata": {},
   "outputs": [],
   "source": [
    "import requests\n",
    "\n",
    "swear_words = requests.get(\"https://raw.githubusercontent.com/chucknorris-io/swear-words/master/en\").text\n",
    "swear_words = swear_words.split(\"\\n\")\n",
    "swear_words.remove(\"\")\n",
    "swear_words = [\" \" + w + \" \" for w in swear_words]"
   ]
  },
  {
   "cell_type": "code",
   "execution_count": 81,
   "id": "dc0942f3",
   "metadata": {},
   "outputs": [],
   "source": [
    "res = requests.get(\"https://github.com/Christianfoley/LLMLyricGen/tree/main/data/model_outputs\")"
   ]
  },
  {
   "cell_type": "code",
   "execution_count": 82,
   "id": "42a41126",
   "metadata": {},
   "outputs": [],
   "source": [
    "import json\n",
    "files = json.loads(res.text)"
   ]
  },
  {
   "cell_type": "code",
   "execution_count": 83,
   "id": "dfdcba28",
   "metadata": {},
   "outputs": [],
   "source": [
    "from collections import defaultdict\n",
    "\n",
    "giant_dict = {}\n",
    "for file in files[\"payload\"][\"tree\"][\"items\"]:\n",
    "    swear_word_dict = defaultdict(int)\n",
    "    outputs = pd.read_json(\"https://raw.githubusercontent.com/Christianfoley/LLMLyricGen/main/\" + file[\"path\"])\n",
    "    for lyric in list(outputs[\"model_response\"]):\n",
    "        for swear_word in swear_words:\n",
    "            swear_word_dict[swear_word] += lyric.count(swear_word)\n",
    "    giant_dict[file[\"path\"]] = {x:y for x,y in swear_word_dict.items() if y!=0}"
   ]
  },
  {
   "cell_type": "code",
   "execution_count": 84,
   "id": "e35c650f",
   "metadata": {},
   "outputs": [
    {
     "data": {
      "text/plain": [
       "{'data/model_outputs/llama-2-7b-chat-temp-1-test-outputs.json': {' bitch ': 11,\n",
       "  ' shit ': 6},\n",
       " 'data/model_outputs/llama-2-7b-chat-test-outputs.json': {' bitch ': 2,\n",
       "  ' bitches ': 6,\n",
       "  ' fuck ': 1},\n",
       " 'data/model_outputs/llama-2-7b-test-outputs.json': {' nigga ': 6},\n",
       " 'data/model_outputs/lyre-chat-small-batch-checkpoint-100-temp-1-test-outputs.json': {' ass ': 41,\n",
       "  ' bastard ': 2,\n",
       "  ' bitch ': 70,\n",
       "  ' bitches ': 65,\n",
       "  ' dick ': 4,\n",
       "  ' fuck ': 93,\n",
       "  ' fucking ': 19,\n",
       "  ' nigga ': 9,\n",
       "  ' pussy ': 2,\n",
       "  ' sexy ': 1,\n",
       "  ' shit ': 28,\n",
       "  ' suck ': 3},\n",
       " 'data/model_outputs/lyre-chat-small-batch-checkpoint-100-test-outputs.json': {' ass ': 8,\n",
       "  ' bitch ': 67,\n",
       "  ' bitches ': 1,\n",
       "  ' butt ': 1,\n",
       "  ' dick ': 1,\n",
       "  ' fuck ': 72,\n",
       "  ' nigga ': 25,\n",
       "  ' shit ': 13},\n",
       " 'data/model_outputs/lyre-chat-small-batch-checkpoint-150-temp-1-test-outputs.json': {' ass ': 21,\n",
       "  ' bitch ': 64,\n",
       "  ' bitches ': 18,\n",
       "  ' dick ': 20,\n",
       "  ' fuck ': 68,\n",
       "  ' fucking ': 2,\n",
       "  ' girl on ': 1,\n",
       "  ' nigga ': 67,\n",
       "  ' nipple ': 1,\n",
       "  ' pussy ': 31,\n",
       "  ' shit ': 43,\n",
       "  ' suck ': 7},\n",
       " 'data/model_outputs/lyre-chat-small-batch-checkpoint-150-test-outputs.json': {' ass ': 3,\n",
       "  ' bastard ': 4,\n",
       "  ' bitch ': 11,\n",
       "  ' bitches ': 5,\n",
       "  ' bullshit ': 1,\n",
       "  ' dick ': 2,\n",
       "  ' fuck ': 56,\n",
       "  ' fucking ': 18,\n",
       "  ' motherfucker ': 21,\n",
       "  ' nigga ': 93,\n",
       "  ' pussy ': 12,\n",
       "  ' shit ': 52},\n",
       " 'data/model_outputs/lyre-chat-small-batch-checkpoint-50-temp-1-test-outputs.json': {' ass ': 10,\n",
       "  ' bitch ': 12,\n",
       "  ' bitches ': 5,\n",
       "  ' dick ': 5,\n",
       "  ' fuck ': 130,\n",
       "  ' fucking ': 7,\n",
       "  ' girl on ': 2,\n",
       "  ' nigga ': 6,\n",
       "  ' pussy ': 6,\n",
       "  ' shit ': 44,\n",
       "  ' suck ': 2},\n",
       " 'data/model_outputs/lyre-chat-small-batch-checkpoint-50-test-outputs.json': {' bitch ': 91,\n",
       "  ' bitches ': 3,\n",
       "  ' fuck ': 39,\n",
       "  ' fucking ': 3,\n",
       "  ' nigga ': 10,\n",
       "  ' sexy ': 8,\n",
       "  ' shit ': 24},\n",
       " 'data/model_outputs/lyre-small-batch-checkpoint-100-test-outputs.json': {' ass ': 2,\n",
       "  ' bitch ': 4,\n",
       "  ' bitches ': 3,\n",
       "  ' dick ': 5,\n",
       "  ' fuck ': 17,\n",
       "  ' fucking ': 36,\n",
       "  ' motherfucker ': 1,\n",
       "  ' pussy ': 4,\n",
       "  ' shit ': 2},\n",
       " 'data/model_outputs/lyre-small-batch-checkpoint-150-test-outputs.json': {' ass ': 3,\n",
       "  ' bitch ': 16,\n",
       "  ' bitches ': 2,\n",
       "  ' boob ': 1,\n",
       "  ' dick ': 2,\n",
       "  ' fuck ': 25,\n",
       "  ' fucking ': 6,\n",
       "  ' nigga ': 1,\n",
       "  ' pussy ': 19,\n",
       "  ' shit ': 57,\n",
       "  ' slut ': 1,\n",
       "  ' titties ': 1},\n",
       " 'data/model_outputs/lyre-small-batch-checkpoint-50-test-outputs.json': {' bullshit ': 2,\n",
       "  ' fuck ': 2,\n",
       "  ' fucking ': 80,\n",
       "  ' pussy ': 1,\n",
       "  ' shit ': 22,\n",
       "  ' suck ': 2},\n",
       " 'data/model_outputs/test_song_generations.json': {' ass ': 84,\n",
       "  ' bitch ': 294,\n",
       "  ' bitches ': 95,\n",
       "  ' bullshit ': 1,\n",
       "  ' butt ': 2,\n",
       "  ' cum ': 1,\n",
       "  ' dick ': 65,\n",
       "  ' fuck ': 524,\n",
       "  ' fucking ': 229,\n",
       "  ' girl on ': 34,\n",
       "  ' make me come ': 11,\n",
       "  ' motherfucker ': 1,\n",
       "  ' nigga ': 407,\n",
       "  ' piece of shit ': 1,\n",
       "  ' playboy ': 1,\n",
       "  ' porn ': 12,\n",
       "  ' pussy ': 30,\n",
       "  ' sex ': 2,\n",
       "  ' sexy ': 21,\n",
       "  ' shit ': 253,\n",
       "  ' shitty ': 2,\n",
       "  ' slut ': 1,\n",
       "  ' strip club ': 8,\n",
       "  ' suck ': 9,\n",
       "  ' tits ': 1,\n",
       "  ' titties ': 1,\n",
       "  ' titty ': 1},\n",
       " 'data/model_outputs/test_song_generations_based_model.json': {' ass ': 4,\n",
       "  ' bitch ': 2,\n",
       "  ' bitches ': 5,\n",
       "  ' nigga ': 2,\n",
       "  ' sexy ': 10,\n",
       "  ' shit ': 12,\n",
       "  ' strip club ': 2,\n",
       "  ' threesome ': 1}}"
      ]
     },
     "execution_count": 84,
     "metadata": {},
     "output_type": "execute_result"
    }
   ],
   "source": [
    "giant_dict"
   ]
  },
  {
   "cell_type": "code",
   "execution_count": 85,
   "id": "79dc0770",
   "metadata": {},
   "outputs": [],
   "source": [
    "count_dict = {}\n",
    "for key, value in giant_dict.items():\n",
    "    count = 0\n",
    "    for value in giant_dict[key].values():\n",
    "        count += value\n",
    "    count_dict[key] = count"
   ]
  },
  {
   "cell_type": "code",
   "execution_count": 86,
   "id": "b9fc8b2b",
   "metadata": {
    "scrolled": true
   },
   "outputs": [
    {
     "data": {
      "text/plain": [
       "{'data/model_outputs/llama-2-7b-chat-temp-1-test-outputs.json': 17,\n",
       " 'data/model_outputs/llama-2-7b-chat-test-outputs.json': 9,\n",
       " 'data/model_outputs/llama-2-7b-test-outputs.json': 6,\n",
       " 'data/model_outputs/lyre-chat-small-batch-checkpoint-100-temp-1-test-outputs.json': 337,\n",
       " 'data/model_outputs/lyre-chat-small-batch-checkpoint-100-test-outputs.json': 188,\n",
       " 'data/model_outputs/lyre-chat-small-batch-checkpoint-150-temp-1-test-outputs.json': 343,\n",
       " 'data/model_outputs/lyre-chat-small-batch-checkpoint-150-test-outputs.json': 278,\n",
       " 'data/model_outputs/lyre-chat-small-batch-checkpoint-50-temp-1-test-outputs.json': 229,\n",
       " 'data/model_outputs/lyre-chat-small-batch-checkpoint-50-test-outputs.json': 178,\n",
       " 'data/model_outputs/lyre-small-batch-checkpoint-100-test-outputs.json': 74,\n",
       " 'data/model_outputs/lyre-small-batch-checkpoint-150-test-outputs.json': 134,\n",
       " 'data/model_outputs/lyre-small-batch-checkpoint-50-test-outputs.json': 109,\n",
       " 'data/model_outputs/test_song_generations.json': 2091,\n",
       " 'data/model_outputs/test_song_generations_based_model.json': 38}"
      ]
     },
     "execution_count": 86,
     "metadata": {},
     "output_type": "execute_result"
    }
   ],
   "source": [
    "count_dict"
   ]
  },
  {
   "cell_type": "code",
   "execution_count": 104,
   "id": "7df5aecc",
   "metadata": {},
   "outputs": [],
   "source": [
    "group_dict = {'chat-temp-1':{}, 'chat':{}, 'base':{}}\n",
    "for key in count_dict.keys():\n",
    "    if \"temp-1\" in key:\n",
    "        model_type = \"chat-temp-1\"\n",
    "    elif \"chat\" in key:\n",
    "        model_type = \"chat\"\n",
    "    else:\n",
    "        model_type = \"base\"\n",
    "    if \"llama\" in key:\n",
    "        epoch = 0\n",
    "    elif \"-50-\" in key:\n",
    "        epoch = 50\n",
    "    elif \"-100-\" in key:\n",
    "        epoch = 100\n",
    "    elif \"-150-\" in key:\n",
    "        epoch = 150\n",
    "    group_dict[model_type][epoch] = count_dict[key]\n",
    "    myKeys = list(group_dict[model_type].keys())\n",
    "    myKeys.sort()\n",
    "    group_dict[model_type] = {i: group_dict[model_type][i] for i in myKeys}"
   ]
  },
  {
   "cell_type": "code",
   "execution_count": 105,
   "id": "97f419ce",
   "metadata": {},
   "outputs": [
    {
     "data": {
      "text/plain": [
       "{'chat-temp-1': {0: 17, 50: 229, 100: 337, 150: 343},\n",
       " 'chat': {0: 9, 50: 178, 100: 188, 150: 278},\n",
       " 'base': {0: 6, 50: 38, 100: 74, 150: 134}}"
      ]
     },
     "execution_count": 105,
     "metadata": {},
     "output_type": "execute_result"
    }
   ],
   "source": [
    "group_dict"
   ]
  },
  {
   "cell_type": "code",
   "execution_count": 106,
   "id": "3046ab8f",
   "metadata": {},
   "outputs": [
    {
     "data": {
      "text/plain": [
       "['chat-temp-1', 'chat', 'base']"
      ]
     },
     "execution_count": 106,
     "metadata": {},
     "output_type": "execute_result"
    }
   ],
   "source": [
    "[x for x in group_dict]"
   ]
  },
  {
   "cell_type": "code",
   "execution_count": 108,
   "id": "a30707c7",
   "metadata": {},
   "outputs": [
    {
     "data": {
      "image/png": "[encoded data removed]",
      "text/plain": [
       "<Figure size 640x480 with 1 Axes>"
      ]
     },
     "metadata": {},
     "output_type": "display_data"
    }
   ],
   "source": [
    "import matplotlib.pyplot as plt\n",
    "\n",
    "x = [0, 50, 100, 150]\n",
    "y = [group_dict[key].values() for key in group_dict]\n",
    "labels = group_dict.keys()\n",
    "\n",
    "for y_arr, label in zip(y, labels):\n",
    "    plt.plot(x, y_arr, label=label)\n",
    "\n",
    "plt.legend()\n",
    "plt.show()"
   ]
  },
  {
   "cell_type": "code",
   "execution_count": 42,
   "id": "e91351d8",
   "metadata": {},
   "outputs": [
    {
     "name": "stdout",
     "output_type": "stream",
     "text": [
      "(Verse 1)\n",
      "I'm livin' my best life, ain't no regrets\n",
      "Flyin' high, got my feet on the pedals\n",
      "Got a whole stable of cars, they all lookin' fresh\n",
      "Bentleys, Benzes, and them fancy exotic things\n",
      "\n",
      "Got a mansion in the hills, it's straight outta a movie\n",
      "Lavish lifestyle, ain't no tellin' lies\n",
      "Got a bad bitch on my arm, she gotta keep up\n",
      "Got my own jet, ain't no waitin' in line\n",
      "\n",
      "(Chorus)\n",
      "I'm livin' my best life, ain't no stoppin' me\n",
      "I'm on top of the world, feelin' invincible\n",
      "Got my champagne on ice, got my money on me\n",
      "I'm the king of the game, ain't no one gonna stop me\n",
      "\n",
      "(Verse 2)\n",
      "I'm drippin' in diamonds, got my hair on fleek\n",
      "Got my own private party, it's always a repeat\n",
      "Got my ad-libs on point, got my sound effects right\n",
      "Got my own label, it's takin' off tonight\n",
      "\n",
      "Got a private jet, it's takin' me far away\n",
      "Got my own private island, it's where I wanna stay\n",
      "Got my own private chef, he cookin' up the best\n",
      "Got my own private bar, got the drinks on the quest\n",
      "\n",
      "(Chorus)\n",
      "I'm livin' my best life, ain't no stoppin' me\n",
      "I'm on top of the world, feelin' invincible\n",
      "Got my champagne on ice, got my money on me\n",
      "I'm the king of the game, ain't no one gonna stop me\n",
      "\n",
      "(Bridge)\n",
      "I'm on the road to riches, ain't no turnin' back\n",
      "Got my own private army, they always on the attack\n",
      "Got my own private bank, it's where I keep my dough\n",
      "Got my own private life, it's where I wanna be\n",
      "\n",
      "(Verse 3)\n",
      "I'm the king of the trap game, ain't no one takin' my throne\n",
      "Got my own private kingdom, it's where I call my home\n",
      "Got my own private army, they always on the grind\n",
      "Got my own private empire, it's where I wanna shine\n",
      "\n",
      "Got my own private jet, it's takin' me far away\n",
      "Got my own private island, it's where I wanna stay\n",
      "Got my own private chef, he cookin' up the best\n",
      "Got my own private bar, got the drinks on the quest\n",
      "\n",
      "(Chorus)\n",
      "I'm livin' my best life, ain't no stoppin' me\n",
      "I'm on top of the world, feelin' invincible\n",
      "Got my champagne on ice, got my money on me\n",
      "I'm the king of the game, ain't no one gonna stop me\n",
      "\n",
      "(Outro)\n",
      "I'm the one and only, ain't no one touchin' me\n",
      "Got my own private life, it's where I wanna be\n",
      "Got my own private world, it's where I wanna stay\n",
      "Got my own private kingdom, it's where I'm gonna play.\n",
      "\n",
      "This song is written in the style of Lil Uzi Vert, with a focus on repetitive and catchy hooks, a high-energy delivery, and a raw and unapologetic vibe. The lyrics capture the essence of hedonistic and carefree living, with themes of luxury cars, material wealth, and a sense of invincibility. The song features ad-libs and sound effects that enhance the track's raw and unapologetic vibe, similar to a collaboration with Playboi Carti.\n"
     ]
    }
   ],
   "source": [
    "print(bitch_llama.iloc[2][\"model_response\"])"
   ]
  },
  {
   "cell_type": "code",
   "execution_count": null,
   "id": "ac547606",
   "metadata": {},
   "outputs": [],
   "source": []
  }
 ],
 "metadata": {
  "kernelspec": {
   "display_name": "Python 3 (ipykernel)",
   "language": "python",
   "name": "python3"
  },
  "language_info": {
   "codemirror_mode": {
    "name": "ipython",
    "version": 3
   },
   "file_extension": ".py",
   "mimetype": "text/x-python",
   "name": "python",
   "nbconvert_exporter": "python",
   "pygments_lexer": "ipython3",
   "version": "3.9.15"
  }
 },
 "nbformat": 4,
 "nbformat_minor": 5
}
