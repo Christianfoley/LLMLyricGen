{
 "cells": [
  {
   "cell_type": "code",
   "execution_count": 1,
   "id": "3c40506a",
   "metadata": {},
   "outputs": [],
   "source": [
    "import pandas as pd\n",
    "llama_outputs = pd.read_json(\"https://raw.githubusercontent.com/Christianfoley/LLMLyricGen/main/data/model_outputs/llama-2-7b-chat-test-outputs.json\")\n",
    "lyre_outputs = pd.read_json(\"https://raw.githubusercontent.com/Christianfoley/LLMLyricGen/main/data/model_outputs/lyre-chat-small-batch-checkpoint-100-temp-1-test-outputs.json\")"
   ]
  },
  {
   "cell_type": "code",
   "execution_count": 2,
   "id": "d9d55503",
   "metadata": {},
   "outputs": [],
   "source": [
    "merged = pd.merge(llama_outputs, lyre_outputs[[\"id\", \"model_response\"]], on=\"id\")"
   ]
  },
  {
   "cell_type": "code",
   "execution_count": 3,
   "id": "6a632ebf",
   "metadata": {},
   "outputs": [],
   "source": [
    "def clean_brackets(text):\n",
    "    return text.replace(\"(\\n\",\"\").replace(\"\\n)\",\"\").replace(\"\\n]\",\"]\").replace(\"[\\n\",\"[\").replace(\":\",\"\")\n",
    "def clean_llama(text):\n",
    "    extra_removed = text.split(\"\\n\")[:-1]\n",
    "    return \"\\n\".join(extra_removed)"
   ]
  },
  {
   "cell_type": "code",
   "execution_count": 4,
   "id": "b13ddfed",
   "metadata": {},
   "outputs": [],
   "source": [
    "l = []\n",
    "for index, row in merged.iterrows():\n",
    "    song = {}\n",
    "    song[\"name\"] = row[\"song\"]\n",
    "    song[\"artist\"] = row[\"artist\"]\n",
    "    song[\"llama_response\"] = clean_llama(clean_brackets(row[\"model_response_x\"]))\n",
    "    song[\"lyre_response\"] = clean_brackets(row[\"model_response_y\"])\n",
    "    song[\"id\"] = row[\"id\"]\n",
    "    l.append(song)"
   ]
  },
  {
   "cell_type": "code",
   "execution_count": 1,
   "id": "4019e0e1",
   "metadata": {},
   "outputs": [],
   "source": [
    "verbose = False\n",
    "if verbose:\n",
    "    l"
   ]
  },
  {
   "cell_type": "code",
   "execution_count": 6,
   "id": "90b29813",
   "metadata": {},
   "outputs": [
    {
     "data": {
      "text/html": [
       "<div>\n",
       "<style scoped>\n",
       "    .dataframe tbody tr th:only-of-type {\n",
       "        vertical-align: middle;\n",
       "    }\n",
       "\n",
       "    .dataframe tbody tr th {\n",
       "        vertical-align: top;\n",
       "    }\n",
       "\n",
       "    .dataframe thead th {\n",
       "        text-align: right;\n",
       "    }\n",
       "</style>\n",
       "<table border=\"1\" class=\"dataframe\">\n",
       "  <thead>\n",
       "    <tr style=\"text-align: right;\">\n",
       "      <th></th>\n",
       "      <th>id</th>\n",
       "      <th>song</th>\n",
       "      <th>artist</th>\n",
       "      <th>target_response</th>\n",
       "      <th>model_response_x</th>\n",
       "      <th>model_response_y</th>\n",
       "    </tr>\n",
       "  </thead>\n",
       "  <tbody>\n",
       "    <tr>\n",
       "      <th>0</th>\n",
       "      <td>9012842</td>\n",
       "      <td>SWINE</td>\n",
       "      <td>Demi Lovato</td>\n",
       "      <td>[Verse 1]\\nGod forbid, I wanna suck whatever t...</td>\n",
       "      <td>Verse 1:\\nI'm sick of being told what to do, s...</td>\n",
       "      <td>[Intro]\\nDon't tell me what to do\\nI'm using m...</td>\n",
       "    </tr>\n",
       "    <tr>\n",
       "      <th>1</th>\n",
       "      <td>8955184</td>\n",
       "      <td>Search &amp; Rescue</td>\n",
       "      <td>Drake</td>\n",
       "      <td>[Intro]\\n(\\nI-I'm\\n)\\nSADPONY\\nAyy \\n(\\nI-I'm\\...</td>\n",
       "      <td>Verse 1:\\nI'm trapped in this bubble, it's all...</td>\n",
       "      <td>[Intro]\\nYeah, yeah\\nIt's the 6ix God and I'm ...</td>\n",
       "    </tr>\n",
       "    <tr>\n",
       "      <th>2</th>\n",
       "      <td>8838915</td>\n",
       "      <td>BACK THAT UP TO THE BEAT</td>\n",
       "      <td>Michael Jackson</td>\n",
       "      <td>[Verse 1]\\nMean the metaphor\\nMove to the beat...</td>\n",
       "      <td>(Verse 1)\\nYo, it's the weekend, let's get it ...</td>\n",
       "      <td>[Intro]\\nDon't you want to dance with me?\\nDon...</td>\n",
       "    </tr>\n",
       "    <tr>\n",
       "      <th>3</th>\n",
       "      <td>9268440</td>\n",
       "      <td>Desire</td>\n",
       "      <td>Sam Smith</td>\n",
       "      <td>[Verse 1]\\nI want you to hold me\\nDon't let me...</td>\n",
       "      <td>Verse 1:\\nI've been alone for so long, feeling...</td>\n",
       "      <td>[Verse 1]\\nI'm alone, and it's a little too mu...</td>\n",
       "    </tr>\n",
       "    <tr>\n",
       "      <th>4</th>\n",
       "      <td>9538405</td>\n",
       "      <td>Say Don’t Go (Taylor’s Version) [From The Vault]</td>\n",
       "      <td>Taylor Swift</td>\n",
       "      <td>[Verse 1]\\nI've known it from the very start\\n...</td>\n",
       "      <td>Verse 1:\\nI've been waiting for your call, for...</td>\n",
       "      <td>[Refrain]\\nDon't go, don't go\\nPlease don't go...</td>\n",
       "    </tr>\n",
       "    <tr>\n",
       "      <th>...</th>\n",
       "      <td>...</td>\n",
       "      <td>...</td>\n",
       "      <td>...</td>\n",
       "      <td>...</td>\n",
       "      <td>...</td>\n",
       "      <td>...</td>\n",
       "    </tr>\n",
       "    <tr>\n",
       "      <th>112</th>\n",
       "      <td>8855903</td>\n",
       "      <td>Selfish (will.i.am Reference)</td>\n",
       "      <td>Kanye West</td>\n",
       "      <td>[Chorus: XXXTENTACION &amp; \\nwill.i.am\\n]\\nSelfis...</td>\n",
       "      <td>Verse 1:\\nI'm the king of my domain, you're th...</td>\n",
       "      <td>[Intro: XXXTENTACION]\\nDon't ever speak my nam...</td>\n",
       "    </tr>\n",
       "    <tr>\n",
       "      <th>113</th>\n",
       "      <td>9149479</td>\n",
       "      <td>Dance The Night</td>\n",
       "      <td>Dua Lipa</td>\n",
       "      <td>[Verse 1]\\nBaby, you can find me under the lig...</td>\n",
       "      <td>(Verse 1)\\nI've been through the fire, but I'm...</td>\n",
       "      <td>[Intro]\\nDon't call me, I'm already gone\\nI'm ...</td>\n",
       "    </tr>\n",
       "    <tr>\n",
       "      <th>114</th>\n",
       "      <td>9488818</td>\n",
       "      <td>Another Late Night</td>\n",
       "      <td>Drake</td>\n",
       "      <td>[Intro: Drake]\\n(\\nGrow up, nigga\\n)\\nGrrah, g...</td>\n",
       "      <td>Verse 1:\\nI'm sitting here, sipping on a drink...</td>\n",
       "      <td>[Intro]\\n(\\nRihanna!\\n)\\nHello? Yeah\\nI think ...</td>\n",
       "    </tr>\n",
       "    <tr>\n",
       "      <th>115</th>\n",
       "      <td>8542990</td>\n",
       "      <td>FUnK YA</td>\n",
       "      <td>Bruno Mars</td>\n",
       "      <td>[Spoken]\\nA: So, have you found another way to...</td>\n",
       "      <td>(Verse 1)\\nYo, listen up, I got a story to tel...</td>\n",
       "      <td>[Intro]\\nFunk you to the top\\nPunk you to the ...</td>\n",
       "    </tr>\n",
       "    <tr>\n",
       "      <th>116</th>\n",
       "      <td>9103860</td>\n",
       "      <td>GOLD BLACKBERRY</td>\n",
       "      <td>Travis Scott</td>\n",
       "      <td>[Intro]\\n(\\nTay Keith, fuck these niggas up!\\n...</td>\n",
       "      <td>(Verse 1)\\nI'm livin' large, I'm on top of the...</td>\n",
       "      <td>[Intro]\\n(\\nSnippet from \"Birds\" by KAYTRANADA...</td>\n",
       "    </tr>\n",
       "  </tbody>\n",
       "</table>\n",
       "<p>117 rows × 6 columns</p>\n",
       "</div>"
      ],
      "text/plain": [
       "          id                                              song  \\\n",
       "0    9012842                                             SWINE   \n",
       "1    8955184                                   Search & Rescue   \n",
       "2    8838915                          BACK THAT UP TO THE BEAT   \n",
       "3    9268440                                            Desire   \n",
       "4    9538405  Say Don’t Go (Taylor’s Version) [From The Vault]   \n",
       "..       ...                                               ...   \n",
       "112  8855903                     Selfish (will.i.am Reference)   \n",
       "113  9149479                                   Dance The Night   \n",
       "114  9488818                                Another Late Night   \n",
       "115  8542990                                           FUnK YA   \n",
       "116  9103860                                   GOLD BLACKBERRY   \n",
       "\n",
       "              artist                                    target_response  \\\n",
       "0        Demi Lovato  [Verse 1]\\nGod forbid, I wanna suck whatever t...   \n",
       "1              Drake  [Intro]\\n(\\nI-I'm\\n)\\nSADPONY\\nAyy \\n(\\nI-I'm\\...   \n",
       "2    Michael Jackson  [Verse 1]\\nMean the metaphor\\nMove to the beat...   \n",
       "3          Sam Smith  [Verse 1]\\nI want you to hold me\\nDon't let me...   \n",
       "4       Taylor Swift  [Verse 1]\\nI've known it from the very start\\n...   \n",
       "..               ...                                                ...   \n",
       "112       Kanye West  [Chorus: XXXTENTACION & \\nwill.i.am\\n]\\nSelfis...   \n",
       "113         Dua Lipa  [Verse 1]\\nBaby, you can find me under the lig...   \n",
       "114            Drake  [Intro: Drake]\\n(\\nGrow up, nigga\\n)\\nGrrah, g...   \n",
       "115       Bruno Mars  [Spoken]\\nA: So, have you found another way to...   \n",
       "116    Travis Scott   [Intro]\\n(\\nTay Keith, fuck these niggas up!\\n...   \n",
       "\n",
       "                                      model_response_x  \\\n",
       "0    Verse 1:\\nI'm sick of being told what to do, s...   \n",
       "1    Verse 1:\\nI'm trapped in this bubble, it's all...   \n",
       "2    (Verse 1)\\nYo, it's the weekend, let's get it ...   \n",
       "3    Verse 1:\\nI've been alone for so long, feeling...   \n",
       "4    Verse 1:\\nI've been waiting for your call, for...   \n",
       "..                                                 ...   \n",
       "112  Verse 1:\\nI'm the king of my domain, you're th...   \n",
       "113  (Verse 1)\\nI've been through the fire, but I'm...   \n",
       "114  Verse 1:\\nI'm sitting here, sipping on a drink...   \n",
       "115  (Verse 1)\\nYo, listen up, I got a story to tel...   \n",
       "116  (Verse 1)\\nI'm livin' large, I'm on top of the...   \n",
       "\n",
       "                                      model_response_y  \n",
       "0    [Intro]\\nDon't tell me what to do\\nI'm using m...  \n",
       "1    [Intro]\\nYeah, yeah\\nIt's the 6ix God and I'm ...  \n",
       "2    [Intro]\\nDon't you want to dance with me?\\nDon...  \n",
       "3    [Verse 1]\\nI'm alone, and it's a little too mu...  \n",
       "4    [Refrain]\\nDon't go, don't go\\nPlease don't go...  \n",
       "..                                                 ...  \n",
       "112  [Intro: XXXTENTACION]\\nDon't ever speak my nam...  \n",
       "113  [Intro]\\nDon't call me, I'm already gone\\nI'm ...  \n",
       "114  [Intro]\\n(\\nRihanna!\\n)\\nHello? Yeah\\nI think ...  \n",
       "115  [Intro]\\nFunk you to the top\\nPunk you to the ...  \n",
       "116  [Intro]\\n(\\nSnippet from \"Birds\" by KAYTRANADA...  \n",
       "\n",
       "[117 rows x 6 columns]"
      ]
     },
     "execution_count": 6,
     "metadata": {},
     "output_type": "execute_result"
    }
   ],
   "source": [
    "merged"
   ]
  },
  {
   "cell_type": "code",
   "execution_count": 7,
   "id": "d83d276b",
   "metadata": {},
   "outputs": [],
   "source": [
    "new_data =  [{'5651833': 'lyre', '8473040': 'llama', '8714746': 'lyre', '8753696': 'lyre', '9268440': 'lyre', '9296239': 'lyre', '9316732': 'lyre', '9390671': 'llama', '9521954': 'llama'}, {'1629': 'llama', '56642': 'lyre', '241562': 'llama', '5328101': 'lyre', '6217414': 'llama', '8733841': 'lyre', '9149479': 'llama', '9268440': 'llama', '9481808': 'llama'}, {'2016798': 'llama', '4241190': 'llama', '4499925': 'llama', '5651833': 'llama', '5780833': 'lyre', '8714746': 'lyre', '8855903': 'lyre', '9538405': 'lyre', '9589444': 'lyre'}]\n",
    "data =  [{'4859957': 'llama', '8011175': 'llama', '8721952': 'llama', '8723233': 'llama', '8955184': 'llama', '9012842': 'llama', '9316732': 'llama', '9452460': 'llama', '9539416': 'llama'}, {'1629': 'llama', '4241190': 'llama', '6217414': 'llama', '8484262': 'llama', '9103860': 'llama', '9255119': 'llama', '9278189': 'llama', '9354764': 'llama', '9496510': 'llama'}, {'2158461': 'lyre', '8302862': 'lyre', '8305765': 'lyre', '8461583': 'lyre', '8753696': 'lyre', '9006590': 'lyre', '9285785': 'lyre', '9488818': 'lyre', '9592360': 'lyre'}, {'252542': 'lyre', '2016798': 'lyre', '6368552': 'lyre', '8721952': 'lyre', '8838915': 'lyre', '8860164': 'lyre', '9141389': 'lyre', '9285785': 'lyre', '9354510': 'lyre'}, {'5328101': 'llama', '5651836': 'llama', '5780833': 'llama', '6713449': 'llama', '8804263': 'llama', '9103860': 'llama', '9149479': 'llama', '9488818': 'llama', '9539416': 'llama'}, {'4499925': 'lyre', '8827240': 'llama', '8955184': 'lyre', '9012842': 'llama', '9017322': 'llama', '9178861': 'lyre', '9278189': 'llama', '9592328': 'llama', '9592360': 'lyre'}, {'89794': 'lyre', '6217414': 'lyre', '8535327': 'lyre', '8721953': 'lyre', '9268440': 'lyre', '9278189': 'llama', '9354510': 'llama', '9491312': 'llama', '9712938': 'llama'}, {'2158461': 'lyre', '3947016': 'lyre', '4888735': 'lyre', '7993821': 'lyre', '8473040': 'lyre', '8721953': 'lyre', '8837446': 'lyre', '9006590': 'lyre', '9431005': 'lyre'}, {'56642': 'llama', '284741': 'llama', '4499925': 'llama', '4805544': 'lyre', '5328101': 'llama', '8305765': 'lyre', '8838915': 'lyre', '8955184': 'lyre', '9354764': 'llama'}, {'56642': 'llama', '4007193': 'lyre', '6368552': 'lyre', '7179459': 'llama', '8209014': 'lyre', '9012842': 'llama', '9149479': 'llama', '9316732': 'llama', '9496510': 'llama'}, {'56642': 'llama', '5651836': 'lyre', '6217414': 'lyre', '8535327': 'llama', '8616820': 'llama', '8855903': 'llama', '9095848': 'llama', '9315592': 'llama', '9538405': 'llama'}, {'2158461': 'llama', '4007193': 'lyre', '7993821': 'llama', '8484071': 'lyre', '8855903': 'lyre', '9103860': 'lyre', '9152732': 'lyre', '9354764': 'lyre', '9424345': 'lyre'}, {'4888735': 'lyre', '6217414': 'lyre', '7864555': 'llama', '8542976': 'lyre', '9269871': 'lyre', '9342239': 'llama', '9390671': 'llama', '9452460': 'llama', '9743590': 'llama'}, {'2016798': 'lyre', '8484263': 'llama', '8542990': 'llama', '8721952': 'llama', '8829528': 'llama', '9117279': 'lyre', '9141389': 'lyre', '9149479': 'lyre', '9152732': 'lyre'}, {'195965': 'llama', '213372': 'llama', '241562': 'llama', '8305765': 'llama', '8490754': 'lyre', '8700423': 'llama', '9031130': 'lyre', '9157172': 'llama', '9175638': 'lyre'}, {'7993821': 'llama', '8700423': 'llama', '8827240': 'llama', '8846302': 'llama', '9152732': 'llama', '9255119': 'lyre', '9278189': 'llama', '9390671': 'lyre', '9743590': 'llama'}, {'213372': 'llama', '5780833': 'llama', '8753696': 'lyre', '8855903': 'llama', '9103860': 'llama', '9315592': 'lyre', '9390671': 'llama', '9488818': 'llama', '9538403': 'lyre'}, {'89794': 'llama', '213372': 'lyre', '9117279': 'llama', '9152732': 'llama', '9354764': 'lyre', '9363637': 'lyre', '9424345': 'lyre', '9491312': 'lyre', '9521954': 'llama'}, {'8445376': 'llama', '8484263': 'lyre', '8535327': 'lyre', '8760629': 'llama', '8855026': 'llama', '9095848': 'llama', '9255119': 'lyre', '9592328': 'llama', '9592360': 'llama'}, {'2016798': 'llama', '8461583': 'llama', '8721953': 'llama', '8837446': 'llama', '8843631': 'llama', '8855903': 'llama', '9117279': 'lyre', '9488818': 'llama', '9592328': 'llama'}, {'6217414': 'llama', '8209014': 'lyre', '8305765': 'llama', '8535327': 'lyre', '8542976': 'llama', '9103860': 'lyre', '9316732': 'llama', '9452460': 'llama', '9488818': 'llama'}, {'4241190': 'llama', '5499742': 'lyre', '8461583': 'lyre', '8484262': 'llama', '8484263': 'lyre', '8723233': 'llama', '8753696': 'lyre', '9431005': 'llama', '9488818': 'llama'}, {'1629': 'llama', '213372': 'llama', '4805544': 'lyre', '6368552': 'lyre', '8484263': 'llama', '9017322': 'lyre', '9152732': 'lyre', '9157172': 'lyre', '9424345': 'lyre'}, {'89794': 'llama', '195965': 'llama', '6368552': 'lyre', '8247476': 'llama', '9031130': 'lyre', '9296239': 'lyre', '9342239': 'llama', '9496510': 'lyre', '9521954': 'llama'}, {'4007193': 'llama', '8445376': 'lyre', '8542990': 'llama', '8616820': 'llama', '8753696': 'lyre', '8829528': 'llama', '9157481': 'llama', '9268440': 'lyre', '9491312': 'lyre'}, {'8542990': 'llama', '8700423': 'lyre', '8855903': 'lyre', '8860164': 'llama', '9006073': 'lyre', '9103860': 'lyre', '9175638': 'lyre', '9354510': 'lyre', '9452460': 'llama'}, {'1629': 'lyre', '56642': 'lyre', '3947016': 'lyre', '8837446': 'llama', '8838915': 'lyre', '9012842': 'lyre', '9175638': 'lyre', '9268440': 'lyre', '9342239': 'lyre'}, {'195965': 'llama', '5328101': 'lyre', '5651833': 'llama', '7179459': 'llama', '8723233': 'lyre', '9268440': 'llama', '9315592': 'llama', '9491312': 'llama', '9592360': 'lyre'}, {'4241190': 'lyre', '6217414': 'lyre', '8837446': 'lyre', '9268440': 'lyre', '9316732': 'llama', '9481808': 'lyre', '9521954': 'lyre', '9539416': 'lyre', '9743590': 'lyre'}, {'252542': 'llama', '4499925': 'lyre', '4888735': 'lyre', '8461583': 'lyre', '8753696': 'lyre', '9006590': 'lyre', '9117279': 'lyre', '9157481': 'llama', '9452460': 'llama'}, {'4859957': 'lyre', '6217414': 'lyre', '7358067': 'llama', '8733841': 'lyre', '9157172': 'llama', '9354764': 'lyre', '9491312': 'lyre', '9496510': 'lyre', '9521954': 'llama'}, {'213372': 'lyre', '4805544': 'lyre', '6713449': 'llama', '8305765': 'lyre', '8490754': 'lyre', '8535327': 'lyre', '8955184': 'lyre', '9017322': 'llama', '9268440': 'llama'}, {'4888735': 'lyre', '6368552': 'lyre', '8490754': 'llama', '9103860': 'lyre', '9117279': 'lyre', '9157172': 'lyre', '9268440': 'lyre', '9354764': 'lyre', '9538403': 'llama'}, {'252542': 'lyre', '284741': 'llama', '2016798': 'lyre', '4499925': 'lyre', '8445376': 'lyre', '9117279': 'lyre', '9296239': 'llama', '9592360': 'lyre', '9712938': 'llama'}, {'213372': 'lyre', '4241190': 'lyre', '6217414': 'lyre', '8209014': 'lyre', '8700423': 'lyre', '8721953': 'lyre', '8860164': 'lyre', '9175638': 'lyre', '9268440': 'lyre'}, {'5651833': 'llama', '7451924': 'llama', '7993821': 'llama', '8302862': 'llama', '8473040': 'llama', '8733841': 'llama', '9255119': 'llama', '9452460': 'lyre', '9592360': 'lyre'}]"
   ]
  },
  {
   "cell_type": "code",
   "execution_count": 2,
   "id": "c7186250",
   "metadata": {},
   "outputs": [
    {
     "ename": "FileNotFoundError",
     "evalue": "[Errno 2] No such file or directory: 'human_evals.txt'",
     "output_type": "error",
     "traceback": [
      "\u001b[0;31m---------------------------------------------------------------------------\u001b[0m",
      "\u001b[0;31mFileNotFoundError\u001b[0m                         Traceback (most recent call last)",
      "\u001b[0;32m<ipython-input-2-e5853606ffe9>\u001b[0m in \u001b[0;36m<module>\u001b[0;34m\u001b[0m\n\u001b[1;32m      1\u001b[0m \u001b[0;32mimport\u001b[0m \u001b[0mjson\u001b[0m\u001b[0;34m\u001b[0m\u001b[0;34m\u001b[0m\u001b[0m\n\u001b[1;32m      2\u001b[0m \u001b[0;34m\u001b[0m\u001b[0m\n\u001b[0;32m----> 3\u001b[0;31m \u001b[0;32mwith\u001b[0m \u001b[0mopen\u001b[0m\u001b[0;34m(\u001b[0m\u001b[0;34m'human_evals.txt'\u001b[0m\u001b[0;34m,\u001b[0m \u001b[0;34m'r'\u001b[0m\u001b[0;34m)\u001b[0m \u001b[0;32mas\u001b[0m \u001b[0mf\u001b[0m\u001b[0;34m:\u001b[0m\u001b[0;34m\u001b[0m\u001b[0;34m\u001b[0m\u001b[0m\n\u001b[0m\u001b[1;32m      4\u001b[0m     \u001b[0mcontent\u001b[0m \u001b[0;34m=\u001b[0m \u001b[0mf\u001b[0m\u001b[0;34m.\u001b[0m\u001b[0mread\u001b[0m\u001b[0;34m(\u001b[0m\u001b[0;34m)\u001b[0m\u001b[0;34m\u001b[0m\u001b[0;34m\u001b[0m\u001b[0m\n\u001b[1;32m      5\u001b[0m \u001b[0mdata\u001b[0m \u001b[0;34m=\u001b[0m \u001b[0mjson\u001b[0m\u001b[0;34m.\u001b[0m\u001b[0mloads\u001b[0m\u001b[0;34m(\u001b[0m\u001b[0mcontent\u001b[0m\u001b[0;34m)\u001b[0m\u001b[0;34m\u001b[0m\u001b[0;34m\u001b[0m\u001b[0m\n",
      "\u001b[0;31mFileNotFoundError\u001b[0m: [Errno 2] No such file or directory: 'human_evals.txt'"
     ]
    }
   ],
   "source": [
    "import json\n",
    "\n",
    "with open('human_evals.txt', 'r') as f:\n",
    "    content = f.read()\n",
    "data = json.loads(content)"
   ]
  },
  {
   "cell_type": "code",
   "execution_count": 17,
   "id": "16bdf4e0",
   "metadata": {},
   "outputs": [],
   "source": [
    "ids = []\n",
    "models = []\n",
    "for datapoint in data:\n",
    "    ids.extend([int(k) for k in datapoint.keys()])\n",
    "    models.extend(datapoint.values())"
   ]
  },
  {
   "cell_type": "code",
   "execution_count": 18,
   "id": "9aae5477",
   "metadata": {},
   "outputs": [],
   "source": [
    "from collections import Counter"
   ]
  },
  {
   "cell_type": "code",
   "execution_count": 19,
   "id": "e4454465",
   "metadata": {},
   "outputs": [],
   "source": [
    "results = pd.DataFrame({\"id\":ids, \"chosen_model\":models})\n",
    "results = results.merge(merged, on=\"id\")[[\"id\", \"chosen_model\", \"song\", \"artist\"]]"
   ]
  },
  {
   "cell_type": "code",
   "execution_count": 21,
   "id": "8b9409f7",
   "metadata": {},
   "outputs": [],
   "source": [
    "vote_results = results.groupby(['artist', 'chosen_model']).size().unstack(fill_value=0).reset_index()\n",
    "vote_results[\"num_votes\"] = vote_results[\"llama\"] + vote_results[\"lyre\"]"
   ]
  },
  {
   "cell_type": "code",
   "execution_count": 22,
   "id": "cdd3127a",
   "metadata": {},
   "outputs": [],
   "source": [
    "top_results = vote_results[vote_results[\"num_votes\"] >= 12]"
   ]
  },
  {
   "cell_type": "code",
   "execution_count": 23,
   "id": "5c973a05",
   "metadata": {},
   "outputs": [
    {
     "name": "stderr",
     "output_type": "stream",
     "text": [
      "/tmp/ipykernel_30/3473688602.py:1: SettingWithCopyWarning: \n",
      "A value is trying to be set on a copy of a slice from a DataFrame.\n",
      "Try using .loc[row_indexer,col_indexer] = value instead\n",
      "\n",
      "See the caveats in the documentation: https://pandas.pydata.org/pandas-docs/stable/user_guide/indexing.html#returning-a-view-versus-a-copy\n",
      "  top_results[\"win_rate\"] = top_results[\"lyre\"] / top_results[\"num_votes\"]\n"
     ]
    }
   ],
   "source": [
    "top_results[\"win_rate\"] = top_results[\"lyre\"] / top_results[\"num_votes\"]"
   ]
  },
  {
   "cell_type": "code",
   "execution_count": 24,
   "id": "53a8500e",
   "metadata": {},
   "outputs": [],
   "source": [
    "overall_win_rate = Counter(models)[\"lyre\"] / (Counter(models)[\"lyre\"] + Counter(models)[\"llama\"])"
   ]
  },
  {
   "cell_type": "code",
   "execution_count": 26,
   "id": "3466e0e1",
   "metadata": {},
   "outputs": [
    {
     "data": {
      "image/png": "[encoded data removed]",
      "text/plain": [
       "<Figure size 800x600 with 1 Axes>"
      ]
     },
     "metadata": {},
     "output_type": "display_data"
    }
   ],
   "source": [
    "import seaborn as sns\n",
    "sns.set_style(\"darkgrid\")\n",
    "# Create the bar plot\n",
    "plt.figure(figsize=(8, 6))  # Adjust figure size if needed\n",
    "ax = sns.barplot(data=top_results, x='artist', y='win_rate', palette='pastel')\n",
    "ax.set(xlabel='Top 6 Artists', ylabel='Lyre Win Rate', title='Lyre Win Rate for Song Quality / Artist Likeness')\n",
    "plt.axhline(y=0.512, ls=\":\")\n",
    "plt.show()\n"
   ]
  },
  {
   "cell_type": "code",
   "execution_count": null,
   "id": "809784b9",
   "metadata": {},
   "outputs": [],
   "source": []
  }
 ],
 "metadata": {
  "kernelspec": {
   "display_name": "Python 3 (ipykernel)",
   "language": "python",
   "name": "python3"
  },
  "language_info": {
   "codemirror_mode": {
    "name": "ipython",
    "version": 3
   },
   "file_extension": ".py",
   "mimetype": "text/x-python",
   "name": "python",
   "nbconvert_exporter": "python",
   "pygments_lexer": "ipython3",
   "version": "3.9.4"
  }
 },
 "nbformat": 4,
 "nbformat_minor": 5
}
