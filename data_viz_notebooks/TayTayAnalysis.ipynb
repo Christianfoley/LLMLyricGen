{
 "cells": [
  {
   "cell_type": "code",
   "execution_count": 11,
   "id": "7a9859c8",
   "metadata": {},
   "outputs": [],
   "source": [
    "import pandas as pd\n",
    "import re\n",
    "import requests\n",
    "from nltk import ngrams\n",
    "import matplotlib.pyplot as plt\n",
    "import seaborn as sns"
   ]
  },
  {
   "cell_type": "code",
   "execution_count": 1,
   "id": "9d4e1360",
   "metadata": {},
   "outputs": [],
   "source": [
    "llama_outputs = pd.read_json(\"https://raw.githubusercontent.com/Christianfoley/LLMLyricGen/main/data/taylor_swift_model_ouputs/llama-2-7b-chat-taylor-test-outputs.json\")\n",
    "llama_swift_outputs = pd.read_json(\"https://raw.githubusercontent.com/Christianfoley/LLMLyricGen/main/data/taylor_swift_model_ouputs/llama-2-7b-chat-ft_taylor_swift-taylor-test-outputs.json\")\n",
    "lyre_outputs = pd.read_json(\"https://raw.githubusercontent.com/Christianfoley/LLMLyricGen/main/data/taylor_swift_model_ouputs/lyre-chat_taylor_swift-checkpoint-10-taylor-test-outputs.json\")"
   ]
  },
  {
   "cell_type": "code",
   "execution_count": 2,
   "id": "8676cefc",
   "metadata": {},
   "outputs": [],
   "source": [
    "def clean_text(text):\n",
    "    text = re.sub(r'\\[.*?\\]', '', text)\n",
    "    return text.replace('\\n',' ').replace('\\r','').replace(\"\\'\", '').lower().replace(\".\", \"\").replace(\"!\", \"\").replace(\",\",\"\").replace(\"?\",\"\").strip()"
   ]
  },
  {
   "cell_type": "code",
   "execution_count": 3,
   "id": "1514486a",
   "metadata": {},
   "outputs": [],
   "source": [
    "master = \"https://raw.githubusercontent.com/irenetrampoline/taylor-swift-lyrics/master/all_tswift_lyrics.txt\"\n",
    "req = requests.get(master)\n",
    "all_text = req.text.replace('\\n',' ').replace('\\r','').replace(\"\\'\", '').lower().replace(\".\", \"\").replace(\"!\", \"\").replace(\",\",\"\").replace(\"?\",\"\").strip()"
   ]
  },
  {
   "cell_type": "code",
   "execution_count": 4,
   "id": "a158a574",
   "metadata": {},
   "outputs": [],
   "source": [
    "master = \"https://gist.githubusercontent.com/deekayen/4148741/raw/98d35708fa344717d8eee15d11987de6c8e26d7d/1-1000.txt\"\n",
    "req = requests.get(master)\n",
    "common_words = req.text.lower().split(\"\\n\")\n",
    "common_words.append('')\n",
    "common_words.append(' ')\n",
    "common_words.extend(['didnt','wont','shouldnt','wouldnt','couldnt','cant','im','youre','hes','shes','thats','its','ive'])"
   ]
  },
  {
   "cell_type": "code",
   "execution_count": 6,
   "id": "513ebf77",
   "metadata": {},
   "outputs": [],
   "source": [
    "# remove common pairings, aka \"of the\"\n",
    "def get_ngrams(text, n):\n",
    "    all_ngrams = set(ngrams(text, n))\n",
    "    unique_ngrams = []\n",
    "    for ngram in all_ngrams:\n",
    "        num_common = 0\n",
    "        for i in range(n):\n",
    "            if ngram[i] not in common_words:\n",
    "                break\n",
    "            num_common += 1\n",
    "        if num_common != n:\n",
    "            unique_ngrams.append(ngram)\n",
    "    return unique_ngrams"
   ]
  },
  {
   "cell_type": "code",
   "execution_count": 7,
   "id": "7208ba52",
   "metadata": {},
   "outputs": [],
   "source": [
    "def get_similar_phrases(model_text, n):\n",
    "    model_text = clean_text(model_text)\n",
    "    all_text_list = all_text.split(' ')\n",
    "    if ' ' in all_text_list:\n",
    "        all_text_list.remove(' ') \n",
    "    if '' in all_text_list:\n",
    "        all_text_list.remove('') \n",
    "    model_text_list = model_text.split(' ')\n",
    "    if ' ' in model_text_list:\n",
    "        model_text_list.remove(' ') \n",
    "    if '' in model_text_list:\n",
    "        model_text_list.remove('') \n",
    "    all_ngrams = get_ngrams(all_text_list, n)\n",
    "    model_ngrams = get_ngrams(model_text_list, n)\n",
    "    return set(all_ngrams) & set(model_ngrams)"
   ]
  },
  {
   "cell_type": "code",
   "execution_count": 8,
   "id": "6714beec",
   "metadata": {},
   "outputs": [],
   "source": [
    "def generate_ngrams_plot(n):\n",
    "    lyre_ngrams = lyre_outputs[\"model_output\"].apply(lambda x: get_similar_phrases(x, n)).apply(len)\n",
    "    llama_ngrams = llama_outputs[\"model_output\"].apply(lambda x: get_similar_phrases(x, n)).apply(len)\n",
    "    data_lyre = {\n",
    "        'song': range(17),\n",
    "        'num': lyre_ngrams,\n",
    "        'model':'lyre'\n",
    "    }\n",
    "    data_llama = {\n",
    "        'song': range(17),\n",
    "        'num': llama_ngrams,\n",
    "        'model':'llama'\n",
    "    }\n",
    "    df_lyre = pd.DataFrame(data_lyre)\n",
    "    df_llama = pd.DataFrame(data_llama)\n",
    "    df = pd.concat([df_lyre, df_llama], ignore_index=True)\n",
    "    \n",
    "    plt.figure(figsize=(8, 6))\n",
    "    sns.barplot(x='song', y='num', hue='model', data=df)\n",
    "    plt.xlabel('Song')\n",
    "    plt.ylabel('Num' + str(n) + '-grams')\n",
    "    plt.title('Generated' + str(n) + '-grams with existing Taylor lyrics')\n",
    "    plt.legend(title='Variables')\n",
    "    print(\"Lyre: \", sum(lyre_ngrams))\n",
    "    print(\"Llama \", sum(llama_ngrams))"
   ]
  },
  {
   "cell_type": "code",
   "execution_count": 9,
   "id": "53b5f7b4",
   "metadata": {},
   "outputs": [],
   "source": [
    "lyre_ngrams_counts = []\n",
    "llama_swift_ngrams_counts = []\n",
    "llama_ngrams_counts = []\n",
    "for n in range(3, 7):\n",
    "    lyre_ngrams = sum(lyre_outputs[\"model_output\"].apply(lambda x: get_similar_phrases(x, n)).apply(len))\n",
    "    llama_swift_ngrams = sum(llama_swift_outputs[\"model_output\"].apply(lambda x: get_similar_phrases(x, n)).apply(len))\n",
    "    llama_ngrams = sum(llama_outputs[\"model_output\"].apply(lambda x: get_similar_phrases(x, n)).apply(len))\n",
    "    lyre_ngrams_counts.append(lyre_ngrams)\n",
    "    llama_swift_ngrams_counts.append(llama_swift_ngrams)\n",
    "    llama_ngrams_counts.append(llama_ngrams)"
   ]
  },
  {
   "cell_type": "code",
   "execution_count": 13,
   "id": "7ca4fb1f",
   "metadata": {},
   "outputs": [
    {
     "data": {
      "text/plain": [
       "<matplotlib.legend.Legend at 0x7ff29af94eb0>"
      ]
     },
     "execution_count": 13,
     "metadata": {},
     "output_type": "execute_result"
    },
    {
     "data": {
      "image/png": "[encoded data removed]",
      "text/plain": [
       "<Figure size 500x300 with 1 Axes>"
      ]
     },
     "metadata": {},
     "output_type": "display_data"
    }
   ],
   "source": [
    "sns.set_style(\"darkgrid\")\n",
    "\n",
    "data_lyre = {\n",
    "    'count': range(3, 7),\n",
    "    'num':lyre_ngrams_counts,\n",
    "    'model':'lyre'\n",
    "}\n",
    "data_llama = {\n",
    "    'count': range(3, 7),\n",
    "    'num': llama_ngrams_counts,\n",
    "    'model':'llama'\n",
    "}\n",
    "\n",
    "data_llama_swift = {\n",
    "    'count': range(3, 7),\n",
    "    'num': llama_swift_ngrams_counts,\n",
    "    'model':'llama_swift'\n",
    "}\n",
    "\n",
    "df_lyre = pd.DataFrame(data_lyre)\n",
    "df_llama = pd.DataFrame(data_llama)\n",
    "df_llama_swift = pd.DataFrame(data_llama_swift)\n",
    "df = pd.concat([df_lyre, df_llama, df_llama_swift], ignore_index=True)\n",
    "\n",
    "plt.figure(figsize=(5, 3))\n",
    "sns.barplot(x='count', y='num', hue='model', data=df, palette='pastel')\n",
    "plt.xlabel('N-gram number')\n",
    "plt.ylabel('Num n-grams')\n",
    "plt.title('Generated 3, 4, 5, and 6-grams with existing Taylor lyrics')\n",
    "plt.legend(title='Model')"
   ]
  }
 ],
 "metadata": {
  "kernelspec": {
   "display_name": "Python 3 (ipykernel)",
   "language": "python",
   "name": "python3"
  },
  "language_info": {
   "codemirror_mode": {
    "name": "ipython",
    "version": 3
   },
   "file_extension": ".py",
   "mimetype": "text/x-python",
   "name": "python",
   "nbconvert_exporter": "python",
   "pygments_lexer": "ipython3",
   "version": "3.9.15"
  }
 },
 "nbformat": 4,
 "nbformat_minor": 5
}
